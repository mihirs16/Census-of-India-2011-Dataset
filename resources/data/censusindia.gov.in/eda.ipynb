{
 "metadata": {
  "language_info": {
   "codemirror_mode": {
    "name": "ipython",
    "version": 3
   },
   "file_extension": ".py",
   "mimetype": "text/x-python",
   "name": "python",
   "nbconvert_exporter": "python",
   "pygments_lexer": "ipython3",
   "version": "3.8.5-final"
  },
  "orig_nbformat": 2,
  "kernelspec": {
   "name": "python3",
   "display_name": "Python 3.8.5 64-bit ('venv': venv)",
   "metadata": {
    "interpreter": {
     "hash": "57e261f95630008cb433405ce6403864627a8c7ac8efae47a3e6fd032f0560e1"
    }
   }
  }
 },
 "nbformat": 4,
 "nbformat_minor": 2,
 "cells": [
  {
   "cell_type": "code",
   "execution_count": 1,
   "metadata": {},
   "outputs": [],
   "source": [
    "import pandas as pd"
   ]
  },
  {
   "cell_type": "code",
   "execution_count": 2,
   "metadata": {},
   "outputs": [
    {
     "output_type": "execute_result",
     "data": {
      "text/plain": [
       "   Unnamed: 0 Table Name  State Code  District Code Area Name Age Group  \\\n",
       "0           0      C4114           0              0     India  All ages   \n",
       "1           1      C4114           0              0     India       0-4   \n",
       "2           2      C4114           0              0     India       5-9   \n",
       "3           3      C4114           0              0     India     10-14   \n",
       "4           4      C4114           0              0     India     15-19   \n",
       "\n",
       "   Total Persons  Total Males  Total Females  Rural Persons  Rural Males  \\\n",
       "0     1210854977    623270258      587584719      833748852    427781058   \n",
       "1      112806778     58632074       54174704       82986660     43036377   \n",
       "2      126928126     66300466       60627660       93807612     48825259   \n",
       "3      132709212     69418835       63290377       96804494     50488158   \n",
       "4      120526449     63982396       56544053       83902472     44570557   \n",
       "\n",
       "   Rural Females  Urban Persons  Urban Males  Urban Females  \n",
       "0      405967794      377106125    195489200      181616925  \n",
       "1       39950283       29820118     15595697       14224421  \n",
       "2       44982353       33120514     17475207       15645307  \n",
       "3       46316336       35904718     18930677       16974041  \n",
       "4       39331915       36623977     19411839       17212138  "
      ],
      "text/html": "<div>\n<style scoped>\n    .dataframe tbody tr th:only-of-type {\n        vertical-align: middle;\n    }\n\n    .dataframe tbody tr th {\n        vertical-align: top;\n    }\n\n    .dataframe thead th {\n        text-align: right;\n    }\n</style>\n<table border=\"1\" class=\"dataframe\">\n  <thead>\n    <tr style=\"text-align: right;\">\n      <th></th>\n      <th>Unnamed: 0</th>\n      <th>Table Name</th>\n      <th>State Code</th>\n      <th>District Code</th>\n      <th>Area Name</th>\n      <th>Age Group</th>\n      <th>Total Persons</th>\n      <th>Total Males</th>\n      <th>Total Females</th>\n      <th>Rural Persons</th>\n      <th>Rural Males</th>\n      <th>Rural Females</th>\n      <th>Urban Persons</th>\n      <th>Urban Males</th>\n      <th>Urban Females</th>\n    </tr>\n  </thead>\n  <tbody>\n    <tr>\n      <th>0</th>\n      <td>0</td>\n      <td>C4114</td>\n      <td>0</td>\n      <td>0</td>\n      <td>India</td>\n      <td>All ages</td>\n      <td>1210854977</td>\n      <td>623270258</td>\n      <td>587584719</td>\n      <td>833748852</td>\n      <td>427781058</td>\n      <td>405967794</td>\n      <td>377106125</td>\n      <td>195489200</td>\n      <td>181616925</td>\n    </tr>\n    <tr>\n      <th>1</th>\n      <td>1</td>\n      <td>C4114</td>\n      <td>0</td>\n      <td>0</td>\n      <td>India</td>\n      <td>0-4</td>\n      <td>112806778</td>\n      <td>58632074</td>\n      <td>54174704</td>\n      <td>82986660</td>\n      <td>43036377</td>\n      <td>39950283</td>\n      <td>29820118</td>\n      <td>15595697</td>\n      <td>14224421</td>\n    </tr>\n    <tr>\n      <th>2</th>\n      <td>2</td>\n      <td>C4114</td>\n      <td>0</td>\n      <td>0</td>\n      <td>India</td>\n      <td>5-9</td>\n      <td>126928126</td>\n      <td>66300466</td>\n      <td>60627660</td>\n      <td>93807612</td>\n      <td>48825259</td>\n      <td>44982353</td>\n      <td>33120514</td>\n      <td>17475207</td>\n      <td>15645307</td>\n    </tr>\n    <tr>\n      <th>3</th>\n      <td>3</td>\n      <td>C4114</td>\n      <td>0</td>\n      <td>0</td>\n      <td>India</td>\n      <td>10-14</td>\n      <td>132709212</td>\n      <td>69418835</td>\n      <td>63290377</td>\n      <td>96804494</td>\n      <td>50488158</td>\n      <td>46316336</td>\n      <td>35904718</td>\n      <td>18930677</td>\n      <td>16974041</td>\n    </tr>\n    <tr>\n      <th>4</th>\n      <td>4</td>\n      <td>C4114</td>\n      <td>0</td>\n      <td>0</td>\n      <td>India</td>\n      <td>15-19</td>\n      <td>120526449</td>\n      <td>63982396</td>\n      <td>56544053</td>\n      <td>83902472</td>\n      <td>44570557</td>\n      <td>39331915</td>\n      <td>36623977</td>\n      <td>19411839</td>\n      <td>17212138</td>\n    </tr>\n  </tbody>\n</table>\n</div>"
     },
     "metadata": {},
     "execution_count": 2
    }
   ],
   "source": [
    "df_age = pd.read_csv(\"census_age.csv\")\n",
    "df_age.head()"
   ]
  },
  {
   "cell_type": "code",
   "execution_count": 3,
   "metadata": {},
   "outputs": [],
   "source": [
    "# separating states and districts\n",
    "area_district = []\n",
    "area_state = []\n",
    "for x in list(df_age[\"Area Name\"].unique()):\n",
    "    if x[:8] == \"State - \":\n",
    "        area_state.append(x)\n",
    "    elif x[:8] == \"District\":\n",
    "        area_district.append(x)\n",
    "    else:\n",
    "        pass"
   ]
  },
  {
   "cell_type": "code",
   "execution_count": 4,
   "metadata": {},
   "outputs": [
    {
     "output_type": "stream",
     "name": "stdout",
     "text": [
      "   District Code Age Group  Total Persons\n0            638  All ages          36842\n1            638       0-4           3229\n2            638       5-9           2576\n3            638     10-14           2684\n4            638     15-19           2773\n"
     ]
    }
   ],
   "source": [
    "# district wise age distribution\n",
    "df_processed_district = df_age[df_age[\"Area Name\"].isin(area_district)][[\"District Code\", \"Age Group\", \"Total Persons\"]]\n",
    "df_processed_district = df_processed_district.reset_index().drop([\"index\"], axis = 1)\n",
    "print(df_processed_district.head())"
   ]
  },
  {
   "cell_type": "code",
   "execution_count": 5,
   "metadata": {},
   "outputs": [
    {
     "output_type": "stream",
     "name": "stdout",
     "text": [
      "   State Code Age Group  Total Persons\n0           1  All ages       12541302\n1           1       0-4        1414884\n2           1       5-9        1411973\n3           1     10-14        1413853\n4           1     15-19        1237462\n"
     ]
    }
   ],
   "source": [
    "# district wise age distribution\n",
    "df_processed_state = df_age[df_age[\"Area Name\"].isin(area_state)][[\"State Code\", \"Age Group\", \"Total Persons\"]]\n",
    "df_processed_state = df_processed_state.reset_index().drop([\"index\"], axis = 1)\n",
    "print(df_processed_state.head())"
   ]
  },
  {
   "cell_type": "code",
   "execution_count": 6,
   "metadata": {},
   "outputs": [
    {
     "output_type": "execute_result",
     "data": {
      "text/plain": [
       "   Unnamed: 0 Table Name  State Code  District Code  \\\n",
       "0           0      B0324        35.0            0.0   \n",
       "1           1      B0324        35.0            0.0   \n",
       "2           2      B0324        35.0            0.0   \n",
       "3           3      B0324        35.0            0.0   \n",
       "4           4      B0324        35.0            0.0   \n",
       "\n",
       "                            Area Name Division Sub-division  \\\n",
       "0  STATE - ANDAMAN & NICOBAR ISLANDS         0           00   \n",
       "1  STATE - ANDAMAN & NICOBAR ISLANDS         0           00   \n",
       "2  STATE - ANDAMAN & NICOBAR ISLANDS         0           00   \n",
       "3  STATE - ANDAMAN & NICOBAR ISLANDS         1           00   \n",
       "4  STATE - ANDAMAN & NICOBAR ISLANDS         1           00   \n",
       "\n",
       "                                   Occupation Residence  \\\n",
       "0                                       TOTAL     Total   \n",
       "1                                       TOTAL     Rural   \n",
       "2                                       TOTAL     Urban   \n",
       "3  LEGISLATORS, SENIOR OFFICIALS AND MANAGERS     Total   \n",
       "4  LEGISLATORS, SENIOR OFFICIALS AND MANAGERS     Rural   \n",
       "\n",
       "   Total Main Worker (Person)  ...  Employer (Female)  Employee (Person)  \\\n",
       "0                    107736.0  ...              351.0            84815.0   \n",
       "1                     55509.0  ...              141.0            40758.0   \n",
       "2                     52227.0  ...              210.0            44057.0   \n",
       "3                      7230.0  ...               87.0             2689.0   \n",
       "4                      3500.0  ...               40.0              932.0   \n",
       "\n",
       "   Employee (Male)  Employee (Female)  Single Worker (Person)  \\\n",
       "0          69118.0            15697.0                 16152.0   \n",
       "1          34009.0             6749.0                 10942.0   \n",
       "2          35109.0             8948.0                  5210.0   \n",
       "3           2323.0              366.0                  2594.0   \n",
       "4            829.0              103.0                  1744.0   \n",
       "\n",
       "   Single Worker (Male)  Single Worker (Female)  Family Worker (Person)  \\\n",
       "0               13577.0                  2575.0                  2834.0   \n",
       "1                9281.0                  1661.0                  2105.0   \n",
       "2                4296.0                   914.0                   729.0   \n",
       "3                2183.0                   411.0                   383.0   \n",
       "4                1435.0                   309.0                   236.0   \n",
       "\n",
       "   Family Worker (Male)  Family Worker (Female)  \n",
       "0                2229.0                   605.0  \n",
       "1                1609.0                   496.0  \n",
       "2                 620.0                   109.0  \n",
       "3                 304.0                    79.0  \n",
       "4                 177.0                    59.0  \n",
       "\n",
       "[5 rows x 24 columns]"
      ],
      "text/html": "<div>\n<style scoped>\n    .dataframe tbody tr th:only-of-type {\n        vertical-align: middle;\n    }\n\n    .dataframe tbody tr th {\n        vertical-align: top;\n    }\n\n    .dataframe thead th {\n        text-align: right;\n    }\n</style>\n<table border=\"1\" class=\"dataframe\">\n  <thead>\n    <tr style=\"text-align: right;\">\n      <th></th>\n      <th>Unnamed: 0</th>\n      <th>Table Name</th>\n      <th>State Code</th>\n      <th>District Code</th>\n      <th>Area Name</th>\n      <th>Division</th>\n      <th>Sub-division</th>\n      <th>Occupation</th>\n      <th>Residence</th>\n      <th>Total Main Worker (Person)</th>\n      <th>...</th>\n      <th>Employer (Female)</th>\n      <th>Employee (Person)</th>\n      <th>Employee (Male)</th>\n      <th>Employee (Female)</th>\n      <th>Single Worker (Person)</th>\n      <th>Single Worker (Male)</th>\n      <th>Single Worker (Female)</th>\n      <th>Family Worker (Person)</th>\n      <th>Family Worker (Male)</th>\n      <th>Family Worker (Female)</th>\n    </tr>\n  </thead>\n  <tbody>\n    <tr>\n      <th>0</th>\n      <td>0</td>\n      <td>B0324</td>\n      <td>35.0</td>\n      <td>0.0</td>\n      <td>STATE - ANDAMAN &amp; NICOBAR ISLANDS</td>\n      <td>0</td>\n      <td>00</td>\n      <td>TOTAL</td>\n      <td>Total</td>\n      <td>107736.0</td>\n      <td>...</td>\n      <td>351.0</td>\n      <td>84815.0</td>\n      <td>69118.0</td>\n      <td>15697.0</td>\n      <td>16152.0</td>\n      <td>13577.0</td>\n      <td>2575.0</td>\n      <td>2834.0</td>\n      <td>2229.0</td>\n      <td>605.0</td>\n    </tr>\n    <tr>\n      <th>1</th>\n      <td>1</td>\n      <td>B0324</td>\n      <td>35.0</td>\n      <td>0.0</td>\n      <td>STATE - ANDAMAN &amp; NICOBAR ISLANDS</td>\n      <td>0</td>\n      <td>00</td>\n      <td>TOTAL</td>\n      <td>Rural</td>\n      <td>55509.0</td>\n      <td>...</td>\n      <td>141.0</td>\n      <td>40758.0</td>\n      <td>34009.0</td>\n      <td>6749.0</td>\n      <td>10942.0</td>\n      <td>9281.0</td>\n      <td>1661.0</td>\n      <td>2105.0</td>\n      <td>1609.0</td>\n      <td>496.0</td>\n    </tr>\n    <tr>\n      <th>2</th>\n      <td>2</td>\n      <td>B0324</td>\n      <td>35.0</td>\n      <td>0.0</td>\n      <td>STATE - ANDAMAN &amp; NICOBAR ISLANDS</td>\n      <td>0</td>\n      <td>00</td>\n      <td>TOTAL</td>\n      <td>Urban</td>\n      <td>52227.0</td>\n      <td>...</td>\n      <td>210.0</td>\n      <td>44057.0</td>\n      <td>35109.0</td>\n      <td>8948.0</td>\n      <td>5210.0</td>\n      <td>4296.0</td>\n      <td>914.0</td>\n      <td>729.0</td>\n      <td>620.0</td>\n      <td>109.0</td>\n    </tr>\n    <tr>\n      <th>3</th>\n      <td>3</td>\n      <td>B0324</td>\n      <td>35.0</td>\n      <td>0.0</td>\n      <td>STATE - ANDAMAN &amp; NICOBAR ISLANDS</td>\n      <td>1</td>\n      <td>00</td>\n      <td>LEGISLATORS, SENIOR OFFICIALS AND MANAGERS</td>\n      <td>Total</td>\n      <td>7230.0</td>\n      <td>...</td>\n      <td>87.0</td>\n      <td>2689.0</td>\n      <td>2323.0</td>\n      <td>366.0</td>\n      <td>2594.0</td>\n      <td>2183.0</td>\n      <td>411.0</td>\n      <td>383.0</td>\n      <td>304.0</td>\n      <td>79.0</td>\n    </tr>\n    <tr>\n      <th>4</th>\n      <td>4</td>\n      <td>B0324</td>\n      <td>35.0</td>\n      <td>0.0</td>\n      <td>STATE - ANDAMAN &amp; NICOBAR ISLANDS</td>\n      <td>1</td>\n      <td>00</td>\n      <td>LEGISLATORS, SENIOR OFFICIALS AND MANAGERS</td>\n      <td>Rural</td>\n      <td>3500.0</td>\n      <td>...</td>\n      <td>40.0</td>\n      <td>932.0</td>\n      <td>829.0</td>\n      <td>103.0</td>\n      <td>1744.0</td>\n      <td>1435.0</td>\n      <td>309.0</td>\n      <td>236.0</td>\n      <td>177.0</td>\n      <td>59.0</td>\n    </tr>\n  </tbody>\n</table>\n<p>5 rows × 24 columns</p>\n</div>"
     },
     "metadata": {},
     "execution_count": 6
    }
   ],
   "source": [
    "df_occupation = pd.read_csv(\"census_occupation.csv\")\n",
    "df_occupation.head()"
   ]
  },
  {
   "cell_type": "code",
   "execution_count": 7,
   "metadata": {},
   "outputs": [],
   "source": [
    "# separating states and districts\n",
    "area_district = []\n",
    "area_state = []\n",
    "for x in list(df_occupation[\"Area Name\"].unique()):\n",
    "    if x[:8] == \"STATE - \":\n",
    "        area_state.append(x)\n",
    "    elif x[:8] == \"District\":\n",
    "        area_district.append(x)\n",
    "    else:\n",
    "        pass"
   ]
  },
  {
   "cell_type": "code",
   "execution_count": 8,
   "metadata": {},
   "outputs": [
    {
     "output_type": "execute_result",
     "data": {
      "text/plain": [
       "     District Code                                  Occupation  \\\n",
       "117          638.0                                       TOTAL   \n",
       "120          638.0  LEGISLATORS, SENIOR OFFICIALS AND MANAGERS   \n",
       "123          638.0            Legislators and Senior Officials   \n",
       "126          638.0                          Corporate Managers   \n",
       "129          638.0                               PROFESSIONALS   \n",
       "\n",
       "     Total Main Worker (Person)  \n",
       "117                      8837.0  \n",
       "120                       310.0  \n",
       "123                        47.0  \n",
       "126                       263.0  \n",
       "129                       424.0  "
      ],
      "text/html": "<div>\n<style scoped>\n    .dataframe tbody tr th:only-of-type {\n        vertical-align: middle;\n    }\n\n    .dataframe tbody tr th {\n        vertical-align: top;\n    }\n\n    .dataframe thead th {\n        text-align: right;\n    }\n</style>\n<table border=\"1\" class=\"dataframe\">\n  <thead>\n    <tr style=\"text-align: right;\">\n      <th></th>\n      <th>District Code</th>\n      <th>Occupation</th>\n      <th>Total Main Worker (Person)</th>\n    </tr>\n  </thead>\n  <tbody>\n    <tr>\n      <th>117</th>\n      <td>638.0</td>\n      <td>TOTAL</td>\n      <td>8837.0</td>\n    </tr>\n    <tr>\n      <th>120</th>\n      <td>638.0</td>\n      <td>LEGISLATORS, SENIOR OFFICIALS AND MANAGERS</td>\n      <td>310.0</td>\n    </tr>\n    <tr>\n      <th>123</th>\n      <td>638.0</td>\n      <td>Legislators and Senior Officials</td>\n      <td>47.0</td>\n    </tr>\n    <tr>\n      <th>126</th>\n      <td>638.0</td>\n      <td>Corporate Managers</td>\n      <td>263.0</td>\n    </tr>\n    <tr>\n      <th>129</th>\n      <td>638.0</td>\n      <td>PROFESSIONALS</td>\n      <td>424.0</td>\n    </tr>\n  </tbody>\n</table>\n</div>"
     },
     "metadata": {},
     "execution_count": 8
    }
   ],
   "source": [
    "# district wise occupation distribution\n",
    "df_occupation = df_occupation[df_occupation[\"Residence\"] == \"Total\"]\n",
    "df_processed_district = df_occupation[df_occupation[\"Area Name\"].isin(area_district)][[\"District Code\", \"Occupation\", \"Total Main Worker (Person)\"]]\n",
    "df_processed_district.reset_index().drop([\"index\"], axis = 1, inplace = True)\n",
    "df_processed_district.head()"
   ]
  },
  {
   "cell_type": "code",
   "execution_count": 9,
   "metadata": {},
   "outputs": [
    {
     "output_type": "execute_result",
     "data": {
      "text/plain": [
       "   State Code                                  Occupation  \\\n",
       "0        35.0                                       TOTAL   \n",
       "1        35.0  LEGISLATORS, SENIOR OFFICIALS AND MANAGERS   \n",
       "2        35.0            Legislators and Senior Officials   \n",
       "3        35.0                          Corporate Managers   \n",
       "4        35.0                               PROFESSIONALS   \n",
       "\n",
       "   Total Main Worker (Person)  \n",
       "0                      8837.0  \n",
       "1                       310.0  \n",
       "2                        47.0  \n",
       "3                       263.0  \n",
       "4                       424.0  "
      ],
      "text/html": "<div>\n<style scoped>\n    .dataframe tbody tr th:only-of-type {\n        vertical-align: middle;\n    }\n\n    .dataframe tbody tr th {\n        vertical-align: top;\n    }\n\n    .dataframe thead th {\n        text-align: right;\n    }\n</style>\n<table border=\"1\" class=\"dataframe\">\n  <thead>\n    <tr style=\"text-align: right;\">\n      <th></th>\n      <th>State Code</th>\n      <th>Occupation</th>\n      <th>Total Main Worker (Person)</th>\n    </tr>\n  </thead>\n  <tbody>\n    <tr>\n      <th>0</th>\n      <td>35.0</td>\n      <td>TOTAL</td>\n      <td>8837.0</td>\n    </tr>\n    <tr>\n      <th>1</th>\n      <td>35.0</td>\n      <td>LEGISLATORS, SENIOR OFFICIALS AND MANAGERS</td>\n      <td>310.0</td>\n    </tr>\n    <tr>\n      <th>2</th>\n      <td>35.0</td>\n      <td>Legislators and Senior Officials</td>\n      <td>47.0</td>\n    </tr>\n    <tr>\n      <th>3</th>\n      <td>35.0</td>\n      <td>Corporate Managers</td>\n      <td>263.0</td>\n    </tr>\n    <tr>\n      <th>4</th>\n      <td>35.0</td>\n      <td>PROFESSIONALS</td>\n      <td>424.0</td>\n    </tr>\n  </tbody>\n</table>\n</div>"
     },
     "metadata": {},
     "execution_count": 9
    }
   ],
   "source": [
    "# state wise occupation distribution\n",
    "df_occupation = df_occupation[df_occupation[\"Residence\"] == \"Total\"]\n",
    "df_processed_state = df_occupation[df_occupation[\"Area Name\"].isin(area_district)][[\"State Code\", \"Occupation\", \"Total Main Worker (Person)\"]]\n",
    "df_processed_state = df_processed_state.reset_index().drop([\"index\"], axis = 1)\n",
    "df_processed_state.head()"
   ]
  },
  {
   "cell_type": "code",
   "execution_count": 10,
   "metadata": {},
   "outputs": [
    {
     "output_type": "execute_result",
     "data": {
      "text/plain": [
       "   Unnamed: 0  State Code  District Code  Sub District Code Category  \\\n",
       "0           0           0              0                  0    INDIA   \n",
       "1           1           0              0                  0    INDIA   \n",
       "2           2           0              0                  0    INDIA   \n",
       "3           3           1              0                  0    STATE   \n",
       "4           4           1              0                  0    STATE   \n",
       "\n",
       "              Name Residence  Inhabited Villages  Uninhabited Villages  Towns  \\\n",
       "0            INDIA     Total              597608                 43324   7933   \n",
       "1            INDIA     Rural              597608                 43324      0   \n",
       "2            INDIA     Urban                   0                     0   7933   \n",
       "3  JAMMU & KASHMIR     Total                6337                   216    122   \n",
       "4  JAMMU & KASHMIR     Rural                6337                   216      0   \n",
       "\n",
       "   Households  Population (Person)  Population (Male)  Population (Female)  \\\n",
       "0   249501663           1210854977          623270258            587584719   \n",
       "1   168612897            833748852          427781058            405967794   \n",
       "2    80888766            377106125          195489200            181616925   \n",
       "3     2119718             12541302            6640662              5900640   \n",
       "4     1553433              9108060            4774477              4333583   \n",
       "\n",
       "         Area  Population Density  \n",
       "0  3287469.00               382.0  \n",
       "1  3101473.97               279.0  \n",
       "2   102252.03              3685.0  \n",
       "3   222236.00               124.0  \n",
       "4   220990.10                91.0  "
      ],
      "text/html": "<div>\n<style scoped>\n    .dataframe tbody tr th:only-of-type {\n        vertical-align: middle;\n    }\n\n    .dataframe tbody tr th {\n        vertical-align: top;\n    }\n\n    .dataframe thead th {\n        text-align: right;\n    }\n</style>\n<table border=\"1\" class=\"dataframe\">\n  <thead>\n    <tr style=\"text-align: right;\">\n      <th></th>\n      <th>Unnamed: 0</th>\n      <th>State Code</th>\n      <th>District Code</th>\n      <th>Sub District Code</th>\n      <th>Category</th>\n      <th>Name</th>\n      <th>Residence</th>\n      <th>Inhabited Villages</th>\n      <th>Uninhabited Villages</th>\n      <th>Towns</th>\n      <th>Households</th>\n      <th>Population (Person)</th>\n      <th>Population (Male)</th>\n      <th>Population (Female)</th>\n      <th>Area</th>\n      <th>Population Density</th>\n    </tr>\n  </thead>\n  <tbody>\n    <tr>\n      <th>0</th>\n      <td>0</td>\n      <td>0</td>\n      <td>0</td>\n      <td>0</td>\n      <td>INDIA</td>\n      <td>INDIA</td>\n      <td>Total</td>\n      <td>597608</td>\n      <td>43324</td>\n      <td>7933</td>\n      <td>249501663</td>\n      <td>1210854977</td>\n      <td>623270258</td>\n      <td>587584719</td>\n      <td>3287469.00</td>\n      <td>382.0</td>\n    </tr>\n    <tr>\n      <th>1</th>\n      <td>1</td>\n      <td>0</td>\n      <td>0</td>\n      <td>0</td>\n      <td>INDIA</td>\n      <td>INDIA</td>\n      <td>Rural</td>\n      <td>597608</td>\n      <td>43324</td>\n      <td>0</td>\n      <td>168612897</td>\n      <td>833748852</td>\n      <td>427781058</td>\n      <td>405967794</td>\n      <td>3101473.97</td>\n      <td>279.0</td>\n    </tr>\n    <tr>\n      <th>2</th>\n      <td>2</td>\n      <td>0</td>\n      <td>0</td>\n      <td>0</td>\n      <td>INDIA</td>\n      <td>INDIA</td>\n      <td>Urban</td>\n      <td>0</td>\n      <td>0</td>\n      <td>7933</td>\n      <td>80888766</td>\n      <td>377106125</td>\n      <td>195489200</td>\n      <td>181616925</td>\n      <td>102252.03</td>\n      <td>3685.0</td>\n    </tr>\n    <tr>\n      <th>3</th>\n      <td>3</td>\n      <td>1</td>\n      <td>0</td>\n      <td>0</td>\n      <td>STATE</td>\n      <td>JAMMU &amp; KASHMIR</td>\n      <td>Total</td>\n      <td>6337</td>\n      <td>216</td>\n      <td>122</td>\n      <td>2119718</td>\n      <td>12541302</td>\n      <td>6640662</td>\n      <td>5900640</td>\n      <td>222236.00</td>\n      <td>124.0</td>\n    </tr>\n    <tr>\n      <th>4</th>\n      <td>4</td>\n      <td>1</td>\n      <td>0</td>\n      <td>0</td>\n      <td>STATE</td>\n      <td>JAMMU &amp; KASHMIR</td>\n      <td>Rural</td>\n      <td>6337</td>\n      <td>216</td>\n      <td>0</td>\n      <td>1553433</td>\n      <td>9108060</td>\n      <td>4774477</td>\n      <td>4333583</td>\n      <td>220990.10</td>\n      <td>91.0</td>\n    </tr>\n  </tbody>\n</table>\n</div>"
     },
     "metadata": {},
     "execution_count": 10
    }
   ],
   "source": [
    "df_district = pd.read_csv(\"census_population.csv\")\n",
    "df_district.head()\n"
   ]
  },
  {
   "cell_type": "code",
   "execution_count": 14,
   "metadata": {},
   "outputs": [
    {
     "output_type": "execute_result",
     "data": {
      "text/plain": [
       "    State Code  District Code             Name  Population (Person)      Area  \\\n",
       "3            1              0  JAMMU & KASHMIR             12541302  222236.0   \n",
       "6            1              1          Kupwara               870354    2379.0   \n",
       "18           1              2           Badgam               753745    1361.0   \n",
       "39           1              3      Leh(Ladakh)               133487   45110.0   \n",
       "51           1              4           Kargil               140802   14036.0   \n",
       "\n",
       "    Population Density  \n",
       "3                124.0  \n",
       "6                366.0  \n",
       "18               554.0  \n",
       "39                 3.0  \n",
       "51                10.0  "
      ],
      "text/html": "<div>\n<style scoped>\n    .dataframe tbody tr th:only-of-type {\n        vertical-align: middle;\n    }\n\n    .dataframe tbody tr th {\n        vertical-align: top;\n    }\n\n    .dataframe thead th {\n        text-align: right;\n    }\n</style>\n<table border=\"1\" class=\"dataframe\">\n  <thead>\n    <tr style=\"text-align: right;\">\n      <th></th>\n      <th>State Code</th>\n      <th>District Code</th>\n      <th>Name</th>\n      <th>Population (Person)</th>\n      <th>Area</th>\n      <th>Population Density</th>\n    </tr>\n  </thead>\n  <tbody>\n    <tr>\n      <th>3</th>\n      <td>1</td>\n      <td>0</td>\n      <td>JAMMU &amp; KASHMIR</td>\n      <td>12541302</td>\n      <td>222236.0</td>\n      <td>124.0</td>\n    </tr>\n    <tr>\n      <th>6</th>\n      <td>1</td>\n      <td>1</td>\n      <td>Kupwara</td>\n      <td>870354</td>\n      <td>2379.0</td>\n      <td>366.0</td>\n    </tr>\n    <tr>\n      <th>18</th>\n      <td>1</td>\n      <td>2</td>\n      <td>Badgam</td>\n      <td>753745</td>\n      <td>1361.0</td>\n      <td>554.0</td>\n    </tr>\n    <tr>\n      <th>39</th>\n      <td>1</td>\n      <td>3</td>\n      <td>Leh(Ladakh)</td>\n      <td>133487</td>\n      <td>45110.0</td>\n      <td>3.0</td>\n    </tr>\n    <tr>\n      <th>51</th>\n      <td>1</td>\n      <td>4</td>\n      <td>Kargil</td>\n      <td>140802</td>\n      <td>14036.0</td>\n      <td>10.0</td>\n    </tr>\n  </tbody>\n</table>\n</div>"
     },
     "metadata": {},
     "execution_count": 14
    }
   ],
   "source": [
    "# state & district wise population distribution\n",
    "df_district = df_district[df_district[\"Residence\"] == \"Total\"]\n",
    "df_processed_district = df_district[df_district[\"Category\"].isin([\"STATE\", \"DISTRICT\"])]\n",
    "df_processed_district = df_processed_district[[\"State Code\", \"District Code\", \"Name\", \"Population (Person)\", \"Area\", \"Population Density\"]]\n",
    "df_processed_district.head()"
   ]
  }
 ]
}